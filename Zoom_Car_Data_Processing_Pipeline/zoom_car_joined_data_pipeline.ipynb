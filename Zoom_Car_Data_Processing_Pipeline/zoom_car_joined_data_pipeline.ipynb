{
 "cells": [
  {
   "cell_type": "code",
   "execution_count": 0,
   "metadata": {
    "application/vnd.databricks.v1+cell": {
     "cellMetadata": {
      "byteLimit": 2048000,
      "rowLimit": 10000
     },
     "inputWidgets": {},
     "nuid": "2e0ccab7-b518-4653-9ec8-b53a213d2ac1",
     "showTitle": false,
     "tableResultSettingsMap": {},
     "title": ""
    }
   },
   "outputs": [],
   "source": [
    "booking_data = spark.sql(\"select * from zoom_cars_data.default.bookings_data\")"
   ]
  },
  {
   "cell_type": "code",
   "execution_count": 0,
   "metadata": {
    "application/vnd.databricks.v1+cell": {
     "cellMetadata": {
      "byteLimit": 2048000,
      "rowLimit": 10000
     },
     "inputWidgets": {},
     "nuid": "e674bc32-dbc7-406c-b910-51a8464611d3",
     "showTitle": false,
     "tableResultSettingsMap": {},
     "title": ""
    }
   },
   "outputs": [],
   "source": [
    "booking_data.show()"
   ]
  },
  {
   "cell_type": "code",
   "execution_count": 0,
   "metadata": {
    "application/vnd.databricks.v1+cell": {
     "cellMetadata": {
      "byteLimit": 2048000,
      "rowLimit": 10000
     },
     "inputWidgets": {},
     "nuid": "c5bd4cc4-b8f0-4ea9-a61a-af838751940e",
     "showTitle": false,
     "tableResultSettingsMap": {},
     "title": ""
    }
   },
   "outputs": [],
   "source": [
    "customer_data = spark.sql(\"select * from zoom_cars_data.default.customers_data\")"
   ]
  },
  {
   "cell_type": "code",
   "execution_count": 0,
   "metadata": {
    "application/vnd.databricks.v1+cell": {
     "cellMetadata": {
      "byteLimit": 2048000,
      "rowLimit": 10000
     },
     "inputWidgets": {},
     "nuid": "e61d5e12-9a9a-4afc-8550-d261f772c739",
     "showTitle": false,
     "tableResultSettingsMap": {},
     "title": ""
    }
   },
   "outputs": [],
   "source": [
    "customer_data.show()"
   ]
  },
  {
   "cell_type": "code",
   "execution_count": 0,
   "metadata": {
    "application/vnd.databricks.v1+cell": {
     "cellMetadata": {},
     "inputWidgets": {},
     "nuid": "a9e51617-d50e-461f-b057-319a384d94ba",
     "showTitle": false,
     "tableResultSettingsMap": {},
     "title": ""
    }
   },
   "outputs": [],
   "source": []
  },
  {
   "cell_type": "code",
   "execution_count": 0,
   "metadata": {
    "application/vnd.databricks.v1+cell": {
     "cellMetadata": {
      "byteLimit": 2048000,
      "rowLimit": 10000
     },
     "inputWidgets": {},
     "nuid": "bd216f5a-5951-4894-9c5b-42f3ee287db9",
     "showTitle": false,
     "tableResultSettingsMap": {},
     "title": ""
    }
   },
   "outputs": [],
   "source": [
    "# Create an empty DataFrame with the defined schema\n",
    "target_table = customer_data.join(booking_data, [\"customer_id\"], \"leftanti\").select(customer_data[\"*\"])\n",
    "\n",
    "# Show the empty table\n",
    "target_table.show()\n"
   ]
  },
  {
   "cell_type": "code",
   "execution_count": 0,
   "metadata": {
    "application/vnd.databricks.v1+cell": {
     "cellMetadata": {
      "byteLimit": 2048000,
      "rowLimit": 10000
     },
     "inputWidgets": {},
     "nuid": "288eec2f-4e03-4814-9c2f-082340f9c231",
     "showTitle": false,
     "tableResultSettingsMap": {},
     "title": ""
    }
   },
   "outputs": [],
   "source": [
    "new_data_df = customer_data\n",
    "\n"
   ]
  },
  {
   "cell_type": "markdown",
   "metadata": {
    "application/vnd.databricks.v1+cell": {
     "cellMetadata": {},
     "inputWidgets": {},
     "nuid": "94ab7fb9-bdf9-4891-b5ea-089e78a09bdd",
     "showTitle": false,
     "tableResultSettingsMap": {},
     "title": ""
    }
   },
   "source": [
    "# Merge the both table base"
   ]
  },
  {
   "cell_type": "code",
   "execution_count": 0,
   "metadata": {
    "application/vnd.databricks.v1+cell": {
     "cellMetadata": {
      "byteLimit": 2048000,
      "rowLimit": 10000
     },
     "inputWidgets": {},
     "nuid": "ee67e23b-96b3-4ff1-8398-5058d99fde47",
     "showTitle": false,
     "tableResultSettingsMap": {},
     "title": ""
    }
   },
   "outputs": [],
   "source": [
    "%python\n",
    "from pyspark.sql.functions import col\n",
    "update_df = new_data_df.alias(\"new\").join(\n",
    "    target_table.alias(\"target\"), \n",
    "    [\"booking_id\", \"customer_id\"], \n",
    "    \"inner\"\n",
    ").where(\n",
    "    col(\"new.status\") != \"cancelled\"\n",
    ").select(\"new.*\")\n",
    "\n",
    "insert_df = new_data_df.alias(\"new\").join(\n",
    "    target_table.alias(\"target\"), \n",
    "    [\"booking_id\", \"customer_id\"], \n",
    "    \"leftanti\"\n",
    ").select(\"new.*\")\n",
    "\n",
    "cancelled_df = new_data_df.filter(\n",
    "    col(\"status\") == \"cancelled\"\n",
    ").select(\"booking_id\", \"customer_id\")\n",
    "\n",
    "merged_df = target_table.alias(\"target\").join(\n",
    "    update_df.alias(\"update\"), \n",
    "    [\"booking_id\", \"customer_id\"], \n",
    "    \"leftanti\"\n",
    ").union(update_df)\n",
    "\n",
    "merged_df = merged_df.union(insert_df)\n",
    "\n",
    "merged_df = merged_df.join(\n",
    "    cancelled_df.alias(\"cancelled\"), \n",
    "    [\"booking_id\", \"customer_id\"], \n",
    "    \"leftanti\"\n",
    ")\n",
    "\n",
    "display(merged_df)"
   ]
  },
  {
   "cell_type": "code",
   "execution_count": 0,
   "metadata": {
    "application/vnd.databricks.v1+cell": {
     "cellMetadata": {},
     "inputWidgets": {},
     "nuid": "ef5c5da1-3b46-4000-bec5-a6c31a29ac3f",
     "showTitle": false,
     "tableResultSettingsMap": {},
     "title": ""
    }
   },
   "outputs": [],
   "source": []
  }
 ],
 "metadata": {
  "application/vnd.databricks.v1+notebook": {
   "computePreferences": null,
   "dashboards": [],
   "environmentMetadata": {
    "base_environment": "",
    "environment_version": "2"
   },
   "language": "python",
   "notebookMetadata": {
    "pythonIndentUnit": 4
   },
   "notebookName": "zoom_car_joined_data_pipeline",
   "widgets": {}
  },
  "language_info": {
   "name": "python"
  }
 },
 "nbformat": 4,
 "nbformat_minor": 0
}
